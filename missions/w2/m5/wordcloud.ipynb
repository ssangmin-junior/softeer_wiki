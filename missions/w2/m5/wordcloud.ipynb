{
 "cells": [
  {
   "cell_type": "code",
   "execution_count": null,
   "metadata": {},
   "outputs": [],
   "source": [
    "%%bash\n",
    "apt-get update\n",
    "apt-get install g++ openjdk-8-jdk python-dev python3-dev\n",
    "pip3 install JPype1\n",
    "pip3 install konlpy\n",
    "!apt-get update -qq\n",
    "!apt-get install fonts-nanum*-qq\n",
    "%env JAVA_HOME \"/usr/lib/jvm/java-8-openjdk-amd64\"  \n",
    "import konlpy\n",
    "from konlpy.tag import Kkma, Komoran, Hannanum, Okt\n",
    "from konlpy.utils import pprint\n",
    "from konlpy.tag import Mecab\n",
    "import numpy as np\n",
    "from wordcloud import WordCloud\n",
    "import matplotlib.pyplot as plt\n",
    "from collections import Counter\n",
    "from PIL import Image"
   ]
  },
  {
   "cell_type": "code",
   "execution_count": null,
   "metadata": {},
   "outputs": [],
   "source": [
    "url= \"\"\n",
    "with open(url, 'r', encoding='utf-8') as f:\n",
    "    text = f.read()\n",
    "text"
   ]
  },
  {
   "cell_type": "code",
   "execution_count": null,
   "metadata": {},
   "outputs": [],
   "source": [
    "\n",
    "okt = Okt()#\n",
    "nouns = okt.nouns(text) # 명사만 추출\n",
    "\n",
    "words = [n for n in nouns if len(n) > 1] # 단어의 길이가 1개인 것은 제외\n",
    "\n",
    "c = Counter(words) # 위에서 얻은 words를 처리하여 단어별 빈도수 형태의 딕셔너리 데이터를 구함"
   ]
  },
  {
   "cell_type": "code",
   "execution_count": null,
   "metadata": {},
   "outputs": [],
   "source": [
    "import matplotlib.font_manager as fm\n",
    "sys_font=fm.findSystemFonts()\n",
    "[f for f in sys_font if 'nanum' in f]"
   ]
  },
  {
   "cell_type": "code",
   "execution_count": null,
   "metadata": {},
   "outputs": [],
   "source": [
    "%config InlineBackend.figure_format = 'retina'\n",
    "\n",
    "!apt -qq -y install fonts-nanum > /dev/null\n",
    "import matplotlib.font_manager as fm\n",
    "fontpath = '/usr/share/fonts/truetype/nanum/NanumBarunGothic.ttf'"
   ]
  },
  {
   "cell_type": "code",
   "execution_count": null,
   "metadata": {},
   "outputs": [],
   "source": [
    "img = Image.open('/content/9a8f9a994c64f3e01cb27c83c5e027c4.jpg')\n",
    "img_array = np.array(img)\n",
    "\n",
    "wc = WordCloud(font_path='/usr/share/fonts/truetype/nanum/NanumBarunGothic.ttf',\n",
    "               width=400, height=400, scale=2.0, max_font_size=250,\n",
    "               background_color='white',mask=img_array)\n",
    "\n",
    "\n",
    "\n",
    "\n",
    "gen = wc.generate_from_frequencies(c)\n",
    "\n",
    "plt.figure()\n",
    "plt.imshow(gen)\n"
   ]
  }
 ],
 "metadata": {
  "language_info": {
   "name": "python"
  }
 },
 "nbformat": 4,
 "nbformat_minor": 2
}
